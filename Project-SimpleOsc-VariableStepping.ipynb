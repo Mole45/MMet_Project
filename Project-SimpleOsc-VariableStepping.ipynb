{
 "cells": [
  {
   "cell_type": "markdown",
   "metadata": {},
   "source": [
    "# Basic Oscillator to test numerical schemes\n",
    "\n",
    "Staring with a very simple oscillator to test the accuracy and robustness of our numerical schemes before applying them to more complex problems.\n",
    "\n",
    "$$\n",
    "\\frac{dv}{dt} = - x\n",
    "$$\n",
    "$$\n",
    "\\frac{dx}{dt} = v\n",
    "$$\n",
    "\n",
    "Spring constant = 1\n",
    "\n",
    "Energy is a conserved quantity\n",
    "\n",
    "$$\n",
    "E = x^2 + v^2\n",
    "$$"
   ]
  },
  {
   "cell_type": "code",
   "execution_count": 4,
   "metadata": {
    "collapsed": false
   },
   "outputs": [
    {
     "data": {
      "text/html": [
       "<style>\n",
       "div.text_cell_render{\n",
       "    background-color: #bcb;\n",
       "    }\n",
       ".rendered_html code {\n",
       "    background-color: #bcb;\n",
       "    color: #900;\n",
       "}\n",
       "</style>\n"
      ],
      "text/plain": [
       "<IPython.core.display.HTML object>"
      ]
     },
     "execution_count": 4,
     "metadata": {},
     "output_type": "execute_result"
    }
   ],
   "source": [
    "import math\n",
    "import matplotlib.pyplot as plt\n",
    "import matplotlib\n",
    "import numpy as np\n",
    "import math\n",
    "%matplotlib inline\n",
    "matplotlib.rcParams.update({'font.size': 22})\n",
    "from IPython.core.display import HTML\n",
    "HTML( open('my_css.css').read() )"
   ]
  },
  {
   "cell_type": "code",
   "execution_count": 5,
   "metadata": {
    "collapsed": false
   },
   "outputs": [],
   "source": [
    "##Define the equations as functions for use in the program\n",
    "\n",
    "def func_dvdt(x):       #dv/dt = -x\n",
    "    return -x\n",
    "def func_dxdt(v):       #dx/dt = v\n",
    "    return v\n",
    "def func_ddt(q):\n",
    "    return np.array([q[1],-q[0]])\n",
    "def func_nrgCons(x,v):    #E = x^2 + v^2\n",
    "    nrgConsVal = (x**2 + v**2)\n",
    "    return nrgConsVal"
   ]
  },
  {
   "cell_type": "markdown",
   "metadata": {},
   "source": [
    "# Schemes:\n",
    "\n",
    "### 1st Order : Euler Forwards\n",
    "\n",
    "$$\\phi_{n+1} = \\phi_n + \\Delta t_a f(\\phi_n)$$\n",
    "\n",
    "### 1st Order : Forwards-Backwards\n",
    "\n",
    "$$\\phi_{n+1} = \\phi_n + \\Delta t_a f(\\phi_n + \\Delta t_a f(\\phi_n))$$\n",
    "\n",
    "### 2nd Order : Leapfrog\n",
    "\n",
    "$$\\phi_{n+1} = \\frac{1}{\\Delta t_b^2}(\\Delta t_a^2 \\phi_{n-1} - \\phi_n(\\Delta t_a^2 - \\Delta t_b^2) + f(\\phi_n)\\Delta t_a \\Delta t_b (\\Delta t_a + \\Delta t_b))$$\n",
    "\n",
    "### 4th Order : Runge - Kutta (4-step explicit)\n",
    "\n",
    "$$\\phi_{n+1} = \\phi_n + \\frac{(\\Delta t_a f(\\phi_n) + 2\\Delta t_a f(\\phi_n + \\frac{\\Delta t_a f(\\phi_n)}{2}) + 2\\Delta t_a f(\\phi_n + \\frac{\\Delta t_a f(\\phi_n + \\frac{\\Delta t_a f(\\phi_n)}{2})}{2}) + \\Delta t_a f(\\phi_n + \\Delta t_a f(\\phi_n + \\frac{\\Delta t_a f(\\phi_n + \\frac{\\Delta t_a f(\\phi_n)}{2})}{2}))}{6}$$\n",
    "\n",
    "$\\phi$ will be represented by q in the code below (q = quantity)\n",
    "\n",
    "$\\Delta t_a$ is the time step between $\\phi_n$ and $\\phi_{n+1}$\n",
    "\n",
    "$\\Delta t_b$ is the time step between $\\phi_{n-1}$ and $\\phi_n$\n",
    "\n",
    "Leapfrog is the only scheme that needs to keep track of both the current and previous time steps"
   ]
  },
  {
   "cell_type": "code",
   "execution_count": 6,
   "metadata": {
    "collapsed": false
   },
   "outputs": [],
   "source": [
    "# dqdt is a list of the stored time derivatives for q, stored in order from present to the past\n",
    "#ie. f(q_n) = dqdt[0] ; f(q_n-1) = dqdt[1] ;...\n",
    "\n",
    "#phi_... = q, delta t = dt, f(...) = dqdt[...]\n",
    "\n",
    "#q is either x or v\n",
    "\n",
    "###Euler Forwards\n",
    "def euler1(q,dt,func):\n",
    "    return np.array(q + dt*func(q))\n",
    "\n",
    "###Forwards-Backwards\n",
    "def forback(q,dt,func): \n",
    "    return np.array(q + dt*func(q+dt*func(q)))\n",
    "    \n",
    "###Leapfrog\n",
    "#Since leapfrog uses q_(n-1), we need to use a different scheme for the first time step as there is no q_(n-1)\n",
    "#In this case we use the Euler Forwards scheme    \n",
    "def leapfrog(qold,qmid,dtmid,dtold,func):\n",
    "    l1 = (dtmid**2)*qold\n",
    "    l2 = qmid*(dtmid**2 - dtold**2)\n",
    "    l3 = (dtmid*dtold*(dtmid+dtold))\n",
    "    l4 = 1/(dtold**2)\n",
    "    return np.array(l4*(l1 - l2 + l3*func(qmid)))\n",
    "\n",
    "###Adams Bashforth --- UNUSED FOR VARIABLE DUE TO COMPLEXITY IN REDERIVATION  \n",
    "#Since 3rd order Adams Bashforth uses dqdt_(n-1) and dqdt(n-2), we need to use a different scheme for the first two time steps\n",
    "#In this case we can use the first and second order Adams Bashforth schemes for the first and second steps respectivley\n",
    "#def AdbA(q,dt,dqdt,order):\n",
    "#    if order == 3:\n",
    "#        #return (23*dqdt[0]-16*dqdt[1]+5*dqdt[2])/12\n",
    "#        return (q + (dt/12)*(23*dqdt[0]-16*dqdt[1]+5*dqdt[2]))\n",
    "#    elif order == 2:\n",
    "#        #return (3*dqdt[0] - dqdt[1])/2\n",
    "#        return (q + (dt/2)*(3*dqdt[0] - dqdt[1]))\n",
    "#    elif order == 1:\n",
    "#        #return dqdt[0]\n",
    "#        return (q + dt*dqdt[0])\n",
    "\n",
    "###Runge-Kutta\n",
    "def RK(dt,q,func): \n",
    "    s1 = dt*func(q)\n",
    "    s2 = dt*func(q+s1/2)\n",
    "    s3 = dt*func(q+s2/2)\n",
    "    s4 = dt*func(q+s3)\n",
    "    #print(s1,s2,s3,s4)\n",
    "    return np.array(q + (s1 + 2*s2 + 2*s3 + s4)/6)"
   ]
  },
  {
   "cell_type": "code",
   "execution_count": 7,
   "metadata": {
    "collapsed": false
   },
   "outputs": [],
   "source": [
    "#Testing.\n",
    "#Let i and j be junk, and djdt to the list of time derivatives of j, at the current time step, previous time step and the \n",
    "#time step before that:\n",
    "#i = 2.0\n",
    "#j = 1.0\n",
    "#dt = 0.1\n",
    "#djdt = [1.0,1.1,1.4]\n",
    "#leapfrog_1(j,dt,djdt)\n",
    "#leapfrog(j,dt,djdt)\n",
    "#AdbA(j,dt,djdt,1)\n",
    "#AdbA(j,dt,djdt,2)\n",
    "#AdbA(j,dt,djdt,3)\n",
    "#RK(dt,i,func_dxdt)\n",
    "#RK(dt,j,func_dvdt)"
   ]
  },
  {
   "cell_type": "code",
   "execution_count": 8,
   "metadata": {
    "collapsed": false
   },
   "outputs": [],
   "source": [
    "#Testing.\n",
    "#Keeping djdt only 3 items long while updating to have the most recent time step first\n",
    "#djdt = [1.0,1.1,1.4]\n",
    "      #[ n ,n-1,n-2]\n",
    "#djdt = [.9] + djdt[:-1]\n",
    "#djdt = [.5] + djdt[:-1]\n",
    "#djdt"
   ]
  },
  {
   "cell_type": "code",
   "execution_count": 9,
   "metadata": {
    "collapsed": false
   },
   "outputs": [],
   "source": [
    "#Euler forwards time stepper\n",
    "def onestep(x,v,dt,dtStep,noStep,t=0):\n",
    "    tArr,xArr,vArr,conArr,dtArr = np.zeros(noStep +1),np.zeros(noStep +1),np.zeros(noStep +1),np.zeros(noStep +1),np.zeros(noStep +1)\n",
    "    AccxArr,AccvArr = np.zeros(noStep +1),np.zeros(noStep +1)\n",
    "    tArr[0],xArr[0],vArr[0],conArr[0],dtArr[0] = t,x,v,func_nrgCons(x,v),dt\n",
    "    AccxArr[0] = x\n",
    "    AccvArr[0] = v\n",
    "    xvArr = np.zeros(2)\n",
    "    xvArr[0] = x\n",
    "    xvArr[1] = v\n",
    "    stepNo = 0\n",
    "    \n",
    "    for stepNo in range(1,noStep+1):\n",
    "        xvArr = euler1(xvArr,dt,func_ddt)\n",
    "        t += dt\n",
    "        dtArr[stepNo] = dt\n",
    "        dt = dt*dtStep\n",
    "        conArr[stepNo] = func_nrgCons(xvArr[0],xvArr[1])\n",
    "        xArr[stepNo] = xvArr[0]\n",
    "        vArr[stepNo] = xvArr[1]\n",
    "        tArr[stepNo] = t\n",
    "        AccxArr[stepNo] = math.cos(t)\n",
    "        AccvArr[stepNo] = -math.sin(t)\n",
    "    return conArr,xArr,vArr,tArr,AccxArr,AccvArr,dtArr\n",
    "        \n",
    "\n",
    "#Forwards-Backwards time stepper\n",
    "def twostep(x,v,dt,dtStep,noStep,t=0):\n",
    "    tArr,xArr,vArr,conArr,dtArr = np.zeros(noStep +1),np.zeros(noStep +1),np.zeros(noStep +1),np.zeros(noStep +1),np.zeros(noStep +1)\n",
    "    AccxArr,AccvArr = np.zeros(noStep +1),np.zeros(noStep +1)\n",
    "    tArr[0],xArr[0],vArr[0],conArr[0],dtArr[0] = t,x,v,func_nrgCons(x,v),dt\n",
    "    AccxArr[0] = x\n",
    "    AccvArr[0] = v\n",
    "    xvArr = np.zeros(2)\n",
    "    xvArr[0] = x\n",
    "    xvArr[1] = v\n",
    "    stepNo = 0\n",
    "    \n",
    "    for stepNo in range(1,noStep+1):\n",
    "        xvArr = forback(xvArr,dt,func_ddt)\n",
    "        #print(xvArr)\n",
    "        t += dt   \n",
    "        dtArr[stepNo] = dt\n",
    "        dt = dt*dtStep\n",
    "        conArr[stepNo] = func_nrgCons(xvArr[0],xvArr[1])\n",
    "        xArr[stepNo] = xvArr[0]\n",
    "        vArr[stepNo] = xvArr[1]\n",
    "        tArr[stepNo] = t\n",
    "        AccxArr[stepNo] = math.cos(t)\n",
    "        AccvArr[stepNo] = -math.sin(t)\n",
    "    return conArr,xArr,vArr,tArr,AccxArr,AccvArr,dtArr\n",
    "    \n",
    "    \n",
    "#Leapfrog time stepper\n",
    "def threestep(x,v,dt,dtStep,noStep,t=0):\n",
    "    tArr,xArr,vArr,conArr,dtArr = np.zeros(noStep +1),np.zeros(noStep +1),np.zeros(noStep +1),np.zeros(noStep +1),np.zeros(noStep +1)\n",
    "    AccxArr,AccvArr = np.zeros(noStep +1),np.zeros(noStep +1)\n",
    "    tArr[0],xArr[0],vArr[0],conArr[0],dtArr[0] = t,x,v,func_nrgCons(x,v),dt\n",
    "    AccxArr[0] = x\n",
    "    AccvArr[0] = v\n",
    "    xvArr = np.zeros(2)\n",
    "    xvArr[0] = x\n",
    "    xvArr[1] = v\n",
    "    stepNo = 0\n",
    "    dtprev = 0\n",
    "    \n",
    "    for stepNo in range(1,noStep+1):\n",
    "        if stepNo >= 2:\n",
    "            xvArr = leapfrog(np.array([xArr[stepNo-2],vArr[stepNo-2]]),xvArr,dt,dtArr[stepNo-1],func_ddt)\n",
    "        else:\n",
    "            xvArr = euler1(xvArr,dt,func_ddt)\n",
    "        t += dt  \n",
    "        dtArr[stepNo] = dt\n",
    "        dt = dt*dtStep\n",
    "        conArr[stepNo] = func_nrgCons(xvArr[0],xvArr[1])\n",
    "        xArr[stepNo] = xvArr[0]\n",
    "        vArr[stepNo] = xvArr[1]\n",
    "        tArr[stepNo] = t\n",
    "        AccxArr[stepNo] = math.cos(t)\n",
    "        AccvArr[stepNo] = -math.sin(t)\n",
    "    return conArr,xArr,vArr,tArr,AccxArr,AccvArr,dtArr\n",
    "    \n",
    "#Runge-Kutta (4-Step) time stepper\n",
    "def fourstep(x,v,dt,dtStep,noStep,t=0):\n",
    "    tArr,xArr,vArr,conArr,dtArr = np.zeros(noStep +1),np.zeros(noStep +1),np.zeros(noStep +1),np.zeros(noStep +1),np.zeros(noStep +1)\n",
    "    AccxArr,AccvArr = np.zeros(noStep +1),np.zeros(noStep +1)\n",
    "    tArr[0],xArr[0],vArr[0],conArr[0],dtArr[0] = t,x,v,func_nrgCons(x,v),dt\n",
    "    AccxArr[0] = x\n",
    "    AccvArr[0] = v\n",
    "    xvArr = np.zeros(2)\n",
    "    xvArr[0] = x\n",
    "    xvArr[1] = v\n",
    "    stepNo = 0\n",
    "    \n",
    "    for stepNo in range(1,noStep+1):\n",
    "        #print(xvArr)\n",
    "        xvArr = RK(dt,xvArr,func_ddt)\n",
    "        #print([1,0]-xvArr)\n",
    "        t += dt  \n",
    "        dtArr[stepNo] = dt\n",
    "        dt = dt*dtStep\n",
    "        conArr[stepNo] = func_nrgCons(xvArr[0],xvArr[1])\n",
    "        xArr[stepNo] = xvArr[0]\n",
    "        vArr[stepNo] = xvArr[1]\n",
    "        tArr[stepNo] = t\n",
    "        AccxArr[stepNo] = math.cos(t)\n",
    "        AccvArr[stepNo] = -math.sin(t)\n",
    "    return conArr,xArr,vArr,tArr,AccxArr,AccvArr,dtArr"
   ]
  },
  {
   "cell_type": "code",
   "execution_count": 179,
   "metadata": {
    "collapsed": false
   },
   "outputs": [
    {
     "name": "stdout",
     "output_type": "stream",
     "text": [
      "[ 0.  0.  0.  0.  0.  0.  0.  0.  0.  0.] [ 0.  0.  0.  0.  0.  0.  0.  0.  0.  0.] [ 0.  0.  0.  0.  0.  0.  0.  0.  0.  0.] [ 0.  0.  0.  0.  0.  0.  0.  0.  0.  0.] [ 0.  0.  0.  0.  0.  0.  0.  0.  0.  0.] 0\n"
     ]
    }
   ],
   "source": [
    "##### THESE ARRAYS ARE DEFINED FOR THE COMPARISON PLOT AT THE END OF THIS SECTION\n",
    "##### DO NOT RUN THIS AT THE START OF EACH EXPERIMENT UNLESS YOU WANT TO EMPTY THE ARRAYS\n",
    "eulerArr = np.zeros(10)\n",
    "fbArr = np.zeros(10)\n",
    "lfArr = np.zeros(10)\n",
    "rkArr = np.zeros(10)\n",
    "stepArr = np.zeros(10)\n",
    "ticker = 0\n",
    "print(eulerArr,fbArr,lfArr,rkArr,stepArr,ticker)"
   ]
  },
  {
   "cell_type": "markdown",
   "metadata": {},
   "source": [
    "# Start Here for Experiments"
   ]
  },
  {
   "cell_type": "code",
   "execution_count": 492,
   "metadata": {
    "collapsed": false
   },
   "outputs": [
    {
     "name": "stdout",
     "output_type": "stream",
     "text": [
      "The time step multiplier is 1.00034663365385\n"
     ]
    }
   ],
   "source": [
    "#define stuff\n",
    "nsteps = 2000\n",
    "timestop = 2*math.pi\n",
    "maxtimestep = 0.5\n",
    "initialtimestep = 0.0021779635\n",
    "scheme = 4  #1= Euler Forwards, 2 = Forwards-Backwards, 3 = Leapfrog, 4 = Runge-Kutta (4-Step)\n",
    "initialX = 1.0\n",
    "initialV = 0.0\n",
    "#timestepstep = (maxtimestep/initialtimestep)**(1/nsteps) #NOTE: This does not factor in a time stop\n",
    "timestepstep = 1.00034663365385  #From spreadsheet\n",
    "print(\"The time step multiplier is\",timestepstep)"
   ]
  },
  {
   "cell_type": "code",
   "execution_count": 493,
   "metadata": {
    "collapsed": false,
    "scrolled": false
   },
   "outputs": [
    {
     "name": "stdout",
     "output_type": "stream",
     "text": [
      "No. Steps taken was 2000 steps\n",
      "The total time forecast was : 6.28318536256\n",
      "The total number of revolutions was: 1.00000000881\n",
      "The final time step was: 0.00435441761235\n"
     ]
    }
   ],
   "source": [
    "if scheme == 1:\n",
    "    plotC,plotX,plotV,plotT,plotAX,plotAV,plotDT = onestep(initialX,initialV,initialtimestep,timestepstep,nsteps)\n",
    "elif scheme == 2:\n",
    "    plotC,plotX,plotV,plotT,plotAX,plotAV,plotDT = twostep(initialX,initialV,initialtimestep,timestepstep,nsteps)\n",
    "elif scheme == 3:\n",
    "    plotC,plotX,plotV,plotT,plotAX,plotAV,plotDT = threestep(initialX,initialV,initialtimestep,timestepstep,nsteps)\n",
    "elif scheme == 4:\n",
    "    plotC,plotX,plotV,plotT,plotAX,plotAV,plotDT = fourstep(initialX,initialV,initialtimestep,timestepstep,nsteps)\n",
    "else:\n",
    "    print(\"No scheme of the order \"+scheme+\" has been implemented\")\n",
    "print(\"No. Steps taken was\",len(plotX)-1,\"steps\")\n",
    "print(\"The total time forecast was :\",plotT[-1])\n",
    "print(\"The total number of revolutions was:\",plotT[-1]/(2*math.pi))\n",
    "print(\"The final time step was:\",plotDT[-1])"
   ]
  },
  {
   "cell_type": "code",
   "execution_count": 494,
   "metadata": {
    "collapsed": false
   },
   "outputs": [],
   "source": [
    "#figA, axesA = plt.subplots(nrows=1,ncols=2,figsize=(18,18))\n",
    "#axesA[0].plot(plotX,plotV)\n",
    "#axesA[0].set(adjustable='box-forced', aspect='equal')\n",
    "#axesA[0].set_xlabel('x')\n",
    "#axesA[0].set_ylabel('v')\n",
    "#axesA[0].set_title('Predicted')\n",
    "#axesA[0].set_xlim(min(plotX)-0.1,max(plotX)+0.1)\n",
    "#axesA[0].set_ylim(min(plotV)-0.1,max(plotV)+0.1)\n",
    "#axesA[1].plot(plotAX,plotAV)\n",
    "#axesA[1].set(adjustable='box-forced', aspect='equal')\n",
    "#axesA[1].set_xlabel('x')\n",
    "#axesA[1].set_ylabel('v')\n",
    "#axesA[1].set_title('Actual')\n",
    "#axesA[1].set_xlim(min(plotAX)-0.1,max(plotAX)+0.1)\n",
    "#axesA[1].set_ylim(min(plotAV)-0.1,max(plotAV)+0.1)\n",
    "#figA.tight_layout()\n",
    "##figA.savefig(str(scheme)+' '+str(nsteps)+' '+str(timestop)+' '+str(initialX)+' '+str(initialV)+' xvSpatial.png')"
   ]
  },
  {
   "cell_type": "code",
   "execution_count": 495,
   "metadata": {
    "collapsed": false
   },
   "outputs": [],
   "source": [
    "#figB, axesB = plt.subplots(figsize=(18,5)) \n",
    "#axesB.plot(plotT,plotX,'b*-',label='$x$')\n",
    "#axesB.plot(plotT,plotV,'g*-',label='$v$')\n",
    "#axesB.legend(loc=3)\n",
    "#axesB.set_xlabel('t')\n",
    "#figB.tight_layout()\n",
    "##figB.savefig(str(scheme)+' '+str(nsteps)+' '+str(timestop)+' '+str(initialX)+' '+str(initialV)+' xvTime.png')"
   ]
  },
  {
   "cell_type": "code",
   "execution_count": 496,
   "metadata": {
    "collapsed": false
   },
   "outputs": [],
   "source": [
    "#figC, axesC = plt.subplots(figsize=(18,5)) \n",
    "#axesC.plot(plotT,plotC,'r*-')\n",
    "#axesC.set_title('Energy should ideally be conserved')\n",
    "##axesC.set_xlim(0,timestop)\n",
    "#figC.tight_layout()\n",
    "##figC.savefig(str(scheme)+' '+str(nsteps)+' '+str(timestop)+' '+str(initialX)+' '+str(initialV)+' nrg.png')"
   ]
  },
  {
   "cell_type": "code",
   "execution_count": 497,
   "metadata": {
    "collapsed": false,
    "scrolled": false
   },
   "outputs": [],
   "source": [
    "## we can compare with the exact solution, if known\n",
    "##xe = [math.cos(t) for t in plotT] # exact solution for x(t)\n",
    "error = [math.sqrt((a-c)**2 + (b-d)**2) for a,b,c,d in zip(plotX,plotV,plotAX,plotAV)]\n",
    "#print (len(error), len(plotT))    \n",
    "#figD, axesD = plt.subplots(nrows=3,ncols=1,figsize=(18,18)) \n",
    "#axesD[0].plot(plotT,plotX,'b.-',label='x forecasted')\n",
    "#axesD[0].plot(plotT,plotAX,'m.-',label='x exact')\n",
    "##axesD[0].set_xlim(0,timestop)\n",
    "#axesD[0].legend(loc=3)\n",
    "#axesD[1].plot(plotT,plotV,'b.-',label='v forecasted')\n",
    "#axesD[1].plot(plotT,plotAV,'m.-',label='v exact')\n",
    "##axesD[1].set_xlim(0,timestop)\n",
    "#axesD[1].legend(loc=3)\n",
    "#axesD[2].plot(plotT,error,'r.-',label='error in position')\n",
    "#axesD[2].grid()\n",
    "##axesD[2].set_xlim(0,timestop)\n",
    "#axesD[2].legend(loc=3)\n",
    "#figD.tight_layout()\n",
    "##figD.savefig(str(scheme)+' '+str(nsteps)+' '+str(timestop)+' '+str(initialX)+' '+str(initialV)+' forecastComp.png')"
   ]
  },
  {
   "cell_type": "code",
   "execution_count": 498,
   "metadata": {
    "collapsed": false
   },
   "outputs": [],
   "source": [
    "#figE, axE = plt.subplots(figsize=(18,5)) \n",
    "#axE.loglog(plotT,error,'r.-',label='forecast error')\n",
    "#figE.tight_layout()\n",
    "##figE.savefig(str(scheme)+' '+str(timestep)+' '+str(timestop)+' '+str(initialX)+' '+str(initialV)+' loglogerror.png')"
   ]
  },
  {
   "cell_type": "code",
   "execution_count": 499,
   "metadata": {
    "collapsed": false
   },
   "outputs": [
    {
     "name": "stdout",
     "output_type": "stream",
     "text": [
      "[ 4.70174731  1.67519859  0.50373834  0.22744501  0.08553693  0.04189823\n",
      "  0.02774151  0.02073503  0.01377612  0.01031443] [ 1.13578228  0.68160238  0.33949265  0.18589931  0.07883645  0.04021835\n",
      "  0.02699418  0.02031445  0.01358911  0.01020921] [  8.91271784e-01   1.38190677e-01   1.97887023e-02   4.87251944e-03\n",
      "   7.76312146e-04   1.93960970e-04   8.61952440e-05   4.84829378e-05\n",
      "   2.15473674e-05   1.21202766e-05] [  1.14953464e-02   7.27450785e-04   1.86766706e-05   1.16776024e-06\n",
      "   2.98980114e-08   1.86866210e-09   3.69117337e-10   1.16790913e-10\n",
      "   2.30732766e-11   7.29669240e-12] [ 0.84153225  0.42805671  0.17300494  0.08680226  0.03479312  0.01740862\n",
      "  0.01160843  0.00870733  0.00580555  0.00435442] 10\n"
     ]
    }
   ],
   "source": [
    "#### Comparison of diff time steps:\n",
    "\n",
    "if scheme == 1:\n",
    "    eulerArr[ticker] = error[-1]\n",
    "    stepArr[ticker] = plotDT[-1]\n",
    "elif scheme == 2:\n",
    "    fbArr[ticker] = error[-1]\n",
    "elif scheme == 3:\n",
    "    lfArr[ticker] = error[-1]\n",
    "elif scheme == 4:\n",
    "    rkArr[ticker] = error[-1]\n",
    "    ticker+=1\n",
    "else:\n",
    "    print('Scheme not availible')\n",
    "print(eulerArr,fbArr,lfArr,rkArr,stepArr,ticker)\n",
    "\n",
    "### Comparison at same time step:\n",
    "#if ticker == 0:\n",
    "#    eulerArr = error\n",
    "#    ticker+=1\n",
    "#elif ticker == 1:\n",
    "#    fbArr = error\n",
    "#    ticker+=1\n",
    "#elif ticker == 2:\n",
    "#    lfArr = error\n",
    "#    ticker+=1\n",
    "#elif ticker == 3:\n",
    "#    rkArr = error\n",
    "#    ticker+=1\n",
    "\n"
   ]
  },
  {
   "cell_type": "code",
   "execution_count": 502,
   "metadata": {
    "collapsed": false,
    "scrolled": false
   },
   "outputs": [
    {
     "name": "stdout",
     "output_type": "stream",
     "text": [
      "[ 1.6830645   0.85611343  0.34600987  0.17360453  0.06958624  0.03481724\n",
      "  0.02321685  0.01741465  0.01161111  0.00870884] [  4.24905917e-01   1.09939530e-01   1.79584250e-02   4.52077967e-03\n",
      "   7.26336792e-04   1.81836013e-04   8.08533517e-05   4.54905203e-05\n",
      "   2.02226797e-05   1.13765716e-05] [  1.00302799e-02   6.71483342e-04   1.79169459e-05   1.13541382e-06\n",
      "   2.93091742e-08   1.83690754e-09   3.63181360e-10   1.14965969e-10\n",
      "   2.27198207e-11   7.19035458e-12]\n"
     ]
    },
    {
     "data": {
      "image/png": "[encoded data removed]",
      "text/plain": [
       "<matplotlib.figure.Figure at 0x1e5ab35da20>"
      ]
     },
     "metadata": {},
     "output_type": "display_data"
    }
   ],
   "source": [
    "#### Lines of gradient 1,2,4\n",
    "lnOneArr,lnTwoArr,lnFourArr = np.zeros(len(stepArr)),np.zeros(len(stepArr)),np.zeros(len(stepArr))\n",
    "for x in range(len(stepArr)):\n",
    "    lnOneArr[x] = 2*(stepArr[x]**1)\n",
    "    lnTwoArr[x] = 0.6*(stepArr[x]**2)\n",
    "    lnFourArr[x] = 0.02*(stepArr[x]**4)\n",
    "print(lnOneArr,lnTwoArr,lnFourArr)\n",
    "    \n",
    "#### Log Log Comparison for differnt time steps\n",
    "\n",
    "figF, axF = plt.subplots(figsize=(18,10)) \n",
    "axF.loglog(stepArr,eulerArr,'r.-',label='Euler error')\n",
    "axF.loglog(stepArr,fbArr,'b.-',label='F-B error')\n",
    "axF.loglog(stepArr,lfArr,'m.-',label='Leapfrog error')\n",
    "axF.loglog(stepArr,rkArr,'g.-',label='R-K 4 error')\n",
    "axF.loglog(stepArr,lnOneArr,'k--')\n",
    "axF.loglog(stepArr,lnTwoArr,'k--')\n",
    "axF.loglog(stepArr,lnFourArr,'k--')\n",
    "axF.grid(b=True, which='major',color='k',linestyle='-')\n",
    "#axF.grid(b=True, which='minor',color='k',linestyle='-')\n",
    "axF.set_title('Error in position at the final time step for a changing number of total steps')\n",
    "axF.legend(loc=0,ncol=2)\n",
    "axF.set_xlabel('Final Time Step')\n",
    "axF.set_ylabel('Pos. Error at Final Step')\n",
    "figF.tight_layout()\n",
    "figF.savefig('Scheme Comparison - Changing Intial Time Stepping Conditions.png')\n",
    "\n",
    "### Comparison at same time step\n",
    "\n",
    "#figF, axF = plt.subplots(figsize=(18,10)) \n",
    "#axF.semilogy(plotT,eulerArr,'r.-',label='Euler error')\n",
    "#axF.semilogy(plotT,fbArr,'b.-',label='F-B error')\n",
    "#axF.semilogy(plotT,lfArr,'m.-',label='Leapfrog error')\n",
    "#axF.semilogy(plotT,rkArr,'g.-',label='R-K 4 error')\n",
    "#axF.legend(loc=4,ncol=2)\n",
    "#axF.set_xlim(0,2*math.pi)\n",
    "#axF.set_ylim(-1,7.1)\n",
    "#axF.set_xlabel('Time')\n",
    "#axF.set_ylabel('Positional Error')\n",
    "#axF.set_title('Error in position with increasing time with the same initial conditions')\n",
    "#figF.tight_layout()\n",
    "#figF.savefig('Variable Scheme Comparison - Same conditions.png')"
   ]
  },
  {
   "cell_type": "code",
   "execution_count": 503,
   "metadata": {
    "collapsed": false
   },
   "outputs": [
    {
     "name": "stdout",
     "output_type": "stream",
     "text": [
      "Euler Slope shoule be ~ 1\n",
      "Euler Slope: 1.01741466686\n",
      "Forwards-Backwards Slope shoule be ~ 1\n",
      "Forwards-Backwards Slope: 0.983993044004\n",
      "Leapfrog Slope shoule be ~ 2\n",
      "Leapfrog Slope: 2.00149034964\n",
      "Runge-Kutta Slope shoule be ~ 4\n",
      "Runge-Kutta Slope: 4.00235313444\n"
     ]
    }
   ],
   "source": [
    "slope, intercept = np.polyfit(np.log(stepArr[4:]),np.log(eulerArr[4:]), 1)\n",
    "print('Euler Slope shoule be ~ 1')\n",
    "print('Euler Slope:',slope)\n",
    "slope, intercept = np.polyfit(np.log(stepArr[4:]), np.log(fbArr[4:]), 1)\n",
    "print('Forwards-Backwards Slope shoule be ~ 1')\n",
    "print('Forwards-Backwards Slope:',slope)\n",
    "slope, intercept = np.polyfit(np.log(stepArr[4:]), np.log(lfArr[4:]), 1)\n",
    "print('Leapfrog Slope shoule be ~ 2')\n",
    "print('Leapfrog Slope:',slope)\n",
    "slope, intercept = np.polyfit(np.log(stepArr[4:]), np.log(rkArr[4:]), 1)\n",
    "print('Runge-Kutta Slope shoule be ~ 4')\n",
    "print('Runge-Kutta Slope:',slope)"
   ]
  },
  {
   "cell_type": "markdown",
   "metadata": {},
   "source": [
    "# Initial dt = 0.001\n",
    "\n",
    "# Slopes from 10 diff time step multipliers, with the same end time (to 6 d.p)\n",
    "\n",
    "| Scheme | Order |Slope |\n",
    "| --- | --- | --- |\n",
    "| Euler Forwards | $1^{st}$ | 1.10439977971 |\n",
    "| Forwards-Backwards | $1^{st}$ | 1.09685863922 |\n",
    "| Leapfrog | $2^{nd}$ | 2.18334781065 |\n",
    "| Runge-Kutta (4-Step) | $4^{th}$ | 4.09812632052 |\n",
    "\n",
    "Using the same total number of time step intervals as the constant time step case for comparison\n",
    "\n",
    "# Slopes excluding the run with the final time steps > 0.5\n",
    "\n",
    "| Scheme | Order |Slope |\n",
    "| --- | --- | --- |\n",
    "| Euler Forwards | $1^{st}$ | 1.04053670263 |\n",
    "| Forwards-Backwards | $1^{st}$ | 0.918643001851 |\n",
    "| Leapfrog | $2^{nd}$ | 2.00613178339 |\n",
    "| Runge-Kutta (4-Step) | $4^{th}$ | 3.9923726076 |\n",
    "\n",
    "\n",
    "\n",
    "### Final Errors for Each Time Step\n",
    "\n",
    "| Scheme \\/ No. Steps >| 10 | 20 | 50 | 100 |  250 | 500 | 750 | 1000 | 1500 | 2000 |\n",
    "| --- | --- | --- | --- | --- | --- | --- | --- | --- | --- | --- |\n",
    "| Euler Forwards | 9.5 | 7.6 | 2.3 | 0.78 | 0.21 | 0.084 | 0.049 | 0.033 | 0.019 | 0.013 |\n",
    "| Forwards-Backwards | 22 | 5.2 | 0.88 | 0.46 | 0.18 | 0.077 | 0.047 | 0.032 | 0.019 | 0.013 |\n",
    "| Leapfrog | 16 | 8.1 | 0.45 | 0.065 | 0.0065 | 0.0011 | 0.00038 | 0.00017 | 0.000056 | 0.000025 |\n",
    "| Runge-Kutta (4-Step) | 5.2 | 0.34 | 0.0055 | 0.00021 | 0.0000023 | 0.000000068 | 0.000000008 | 0.0000000017 | 0.00000000017 | 0.000000000033 |\n",
    "\n",
    "### Notes:\n"
   ]
  },
  {
   "cell_type": "markdown",
   "metadata": {
    "collapsed": true
   },
   "source": [
    "# Initial dt = 0.0001\n",
    "\n",
    "# Slopes from 10 diff time step multipliers, with the same end time (to 6 d.p)\n",
    "\n",
    "| Scheme | Order |Slope |\n",
    "| --- | --- | --- |\n",
    "| Euler Forwards | $1^{st}$ | 1.11752637296 |\n",
    "| Forwards-Backwards | $1^{st}$ | 1.15608621762 |\n",
    "| Leapfrog | $2^{nd}$ | 2.10414123515 |\n",
    "| Runge-Kutta (4-Step) | $4^{th}$ | 4.15058251217 |\n",
    "\n",
    "Using the same total number of time step intervals as the constant time step case for comparison\n",
    "\n",
    "# Slopes excluding the run with the final time steps > 0.5\n",
    "\n",
    "| Scheme | Order |Slope |\n",
    "| --- | --- | --- |\n",
    "| Euler Forwards | $1^{st}$ | 1.05562590246 |\n",
    "| Forwards-Backwards | $1^{st}$ | 0.953246698704 |\n",
    "| Leapfrog | $2^{nd}$ | 2.01564302054 |\n",
    "| Runge-Kutta (4-Step) | $4^{th}$ | 4.01894852695 |\n",
    "\n",
    "\n",
    "\n",
    "### Final Errors for Each Time Step\n",
    "\n",
    "| Scheme \\/ No. Steps >| 10 | 20 | 50 | 100 |  250 | 500 | 750 | 1000 | 1500 | 2000 |\n",
    "| --- | --- | --- | --- | --- | --- | --- | --- | --- | --- | --- |\n",
    "| Euler Forwards | 9.1 | 8.8 | 3.5 | 1.3 | 0.35 | 0.14 | 0.086 | 0.061 | 0.037 | 0.026 |\n",
    "| Forwards-Backwards | 26 | 9.7 | 1.2 | 0.61 | 0.26 | 0.13 | 0.080 | 0.057 | 0.035 | 0.025 |\n",
    "| Leapfrog | 3.2 | 22 | 1.1 | 0.15 | 0.016 | 0.0031 | 0.0012 | 0.00060 | 0.00023 | 0.00011 |\n",
    "| Runge-Kutta (4-Step) | 10 | 0.91 | 0.020 | 0.00090 | 0.000014 | 0.00000055 | 0.000000081 | 0.000000020 | 0.0000000029 | 0.00000000070 |\n",
    "\n",
    "### Notes:\n"
   ]
  },
  {
   "cell_type": "code",
   "execution_count": null,
   "metadata": {
    "collapsed": true
   },
   "outputs": [],
   "source": []
  }
 ],
 "metadata": {
  "kernelspec": {
   "display_name": "Python 3",
   "language": "python",
   "name": "python3"
  },
  "language_info": {
   "codemirror_mode": {
    "name": "ipython",
    "version": 3
   },
   "file_extension": ".py",
   "mimetype": "text/x-python",
   "name": "python",
   "nbconvert_exporter": "python",
   "pygments_lexer": "ipython3",
   "version": "3.5.1"
  }
 },
 "nbformat": 4,
 "nbformat_minor": 0
}
